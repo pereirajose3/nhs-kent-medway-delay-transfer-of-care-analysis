{
 "cells": [
  {
   "cell_type": "code",
   "execution_count": 1,
   "metadata": {},
   "outputs": [],
   "source": [
    "import os\n",
    "\n",
    "plot_save_path=\"C:\\\\Users\\\\e410675\\\\OneDrive - London South Bank University\\\\Desktop\\\\Plots\"\n",
    "\n",
    "\n",
    "#plot_save_path=\"C:\\\\Users\\\\Jose Luis\\\\Desktop\""
   ]
  },
  {
   "cell_type": "code",
   "execution_count": 2,
   "metadata": {},
   "outputs": [
    {
     "name": "stdout",
     "output_type": "stream",
     "text": [
      "  Org Code        Organisation Name  Delayed Transfer of Care Days Acute  \\\n",
      "0      5D7            Newcastle PCT                                  0.0   \n",
      "1      5D8       North Tyneside PCT                                  0.0   \n",
      "2      5KG       South Tyneside PCT                                  0.0   \n",
      "3      5KL  Sunderland Teaching PCT                                  0.0   \n",
      "4      5KM        Middlesbrough PCT                                  0.0   \n",
      "\n",
      "   Delayed Transfer of Care Days Non-Acute  \\\n",
      "0                                    260.0   \n",
      "1                                      0.0   \n",
      "2                                      0.0   \n",
      "3                                      0.0   \n",
      "4                                      0.0   \n",
      "\n",
      "   Delayed Transfer of Care Days Total  Year  Month Year-Month  \\\n",
      "0                                260.0  2010      8    2010-08   \n",
      "1                                  0.0  2010      8    2010-08   \n",
      "2                                  0.0  2010      8    2010-08   \n",
      "3                                  0.0  2010      8    2010-08   \n",
      "4                                  0.0  2010      8    2010-08   \n",
      "\n",
      "                       source file name  \n",
      "0  Total Delayed Days Trust 2010-08.xls  \n",
      "1  Total Delayed Days Trust 2010-08.xls  \n",
      "2  Total Delayed Days Trust 2010-08.xls  \n",
      "3  Total Delayed Days Trust 2010-08.xls  \n",
      "4  Total Delayed Days Trust 2010-08.xls  \n"
     ]
    }
   ],
   "source": [
    "import pandas as pd\n",
    "\n",
    "# Replace with the path to your Excel file\n",
    "df = pd.read_excel(\"delayed_transfers_of_care_2010_2020_combined_data.xlsx\")\n",
    "\n",
    "# Show the first 5 rows\n",
    "print(df.head())"
   ]
  },
  {
   "cell_type": "code",
   "execution_count": 7,
   "metadata": {},
   "outputs": [
    {
     "name": "stderr",
     "output_type": "stream",
     "text": [
      "2025-06-03 11:24:20.371 Thread 'MainThread': missing ScriptRunContext! This warning can be ignored when running in bare mode.\n",
      "2025-06-03 11:24:20.390 Thread 'MainThread': missing ScriptRunContext! This warning can be ignored when running in bare mode.\n",
      "2025-06-03 11:24:20.393 Thread 'MainThread': missing ScriptRunContext! This warning can be ignored when running in bare mode.\n",
      "2025-06-03 11:24:20.399 Thread 'MainThread': missing ScriptRunContext! This warning can be ignored when running in bare mode.\n",
      "2025-06-03 11:24:20.400 Thread 'MainThread': missing ScriptRunContext! This warning can be ignored when running in bare mode.\n",
      "2025-06-03 11:24:20.401 Thread 'MainThread': missing ScriptRunContext! This warning can be ignored when running in bare mode.\n",
      "2025-06-03 11:24:20.404 Thread 'MainThread': missing ScriptRunContext! This warning can be ignored when running in bare mode.\n",
      "2025-06-03 11:24:20.407 Thread 'MainThread': missing ScriptRunContext! This warning can be ignored when running in bare mode.\n",
      "2025-06-03 11:24:20.421 Thread 'MainThread': missing ScriptRunContext! This warning can be ignored when running in bare mode.\n",
      "2025-06-03 11:24:20.423 Thread 'MainThread': missing ScriptRunContext! This warning can be ignored when running in bare mode.\n",
      "2025-06-03 11:24:20.426 Thread 'MainThread': missing ScriptRunContext! This warning can be ignored when running in bare mode.\n",
      "2025-06-03 11:24:20.428 Thread 'MainThread': missing ScriptRunContext! This warning can be ignored when running in bare mode.\n",
      "2025-06-03 11:24:20.429 Thread 'MainThread': missing ScriptRunContext! This warning can be ignored when running in bare mode.\n",
      "2025-06-03 11:24:21.174 Thread 'MainThread': missing ScriptRunContext! This warning can be ignored when running in bare mode.\n",
      "2025-06-03 11:24:21.600 Thread 'MainThread': missing ScriptRunContext! This warning can be ignored when running in bare mode.\n",
      "2025-06-03 11:24:21.601 Thread 'MainThread': missing ScriptRunContext! This warning can be ignored when running in bare mode.\n"
     ]
    },
    {
     "data": {
      "text/plain": [
       "DeltaGenerator()"
      ]
     },
     "execution_count": 7,
     "metadata": {},
     "output_type": "execute_result"
    }
   ],
   "source": [
    "# streamlit_dtoc_smoothed.py\n",
    "\n",
    "import streamlit as st\n",
    "import pandas as pd\n",
    "import matplotlib.pyplot as plt\n",
    "import matplotlib.dates as mdates\n",
    "import matplotlib.ticker as ticker\n",
    "\n",
    "# === Page setup ===\n",
    "st.set_page_config(page_title=\"Smoothed DTOC Dashboard\", layout=\"wide\")\n",
    "\n",
    "st.title(\"📉 Smoothed Delayed Transfer of Care Days Over Time\")\n",
    "st.subheader(\"6-Month Rolling Average: Selected NHS Foundation Trusts vs National Average\")\n",
    "\n",
    "# === File upload or local data ===\n",
    "uploaded_file = st.file_uploader(\"Upload the Excel file\", type=[\"xlsx\"])\n",
    "if uploaded_file:\n",
    "    df = pd.read_excel(uploaded_file)\n",
    "else:\n",
    "    st.warning(\"Please upload an Excel (.xlsx) file to continue.\")\n",
    "    st.stop()\n",
    "\n",
    "# === Preprocessing ===\n",
    "df[\"Year-Month\"] = pd.to_datetime(df[\"Year-Month\"], format=\"%Y-%m\")\n",
    "\n",
    "target_organisations = [\n",
    "    \"Norfolk Community Health And Care NHS Trust\",\n",
    "    \"Norfolk And Suffolk NHS Foundation Trust\"\n",
    "]\n",
    "\n",
    "filtered_df = df[df[\"Organisation Name\"].isin(target_organisations)].copy()\n",
    "filtered_df.sort_values([\"Organisation Name\", \"Year-Month\"], inplace=True)\n",
    "\n",
    "filtered_df[\"Smoothed DTOC\"] = (\n",
    "    filtered_df.groupby(\"Organisation Name\")[\"Delayed Transfer of Care Days Total\"]\n",
    "    .transform(lambda x: x.rolling(window=6, min_periods=1).mean())\n",
    ")\n",
    "\n",
    "national_df = (\n",
    "    df.groupby(\"Year-Month\")[\"Delayed Transfer of Care Days Total\"]\n",
    "    .mean()\n",
    "    .rolling(window=6, min_periods=1)\n",
    "    .mean()\n",
    "    .reset_index(name=\"National Smoothed DTOC\")\n",
    ")\n",
    "\n",
    "# === Plot ===\n",
    "fig, ax = plt.subplots(figsize=(12, 6))\n",
    "fig.patch.set_facecolor('white')\n",
    "tab10 = plt.get_cmap('tab10')\n",
    "\n",
    "for idx, org in enumerate(target_organisations):\n",
    "    org_data = filtered_df[filtered_df[\"Organisation Name\"] == org]\n",
    "    ax.plot(\n",
    "        org_data[\"Year-Month\"],\n",
    "        org_data[\"Smoothed DTOC\"],\n",
    "        label=org,\n",
    "        color=tab10(idx),\n",
    "        linewidth=2,\n",
    "        linestyle='-'\n",
    "    )\n",
    "\n",
    "ax.plot(\n",
    "    national_df[\"Year-Month\"],\n",
    "    national_df[\"National Smoothed DTOC\"],\n",
    "    label=\"National Average\",\n",
    "    color=\"black\",\n",
    "    linewidth=2,\n",
    "    linestyle=\"--\"\n",
    ")\n",
    "\n",
    "# === Axis & Styling ===\n",
    "ax.set_ylabel(\"Delayed Transfer of Care Days (6-Month Rolling Avg)\", fontsize=14)\n",
    "ax.yaxis.set_major_formatter(ticker.FuncFormatter(lambda x, _: f\"{int(x):,}\"))\n",
    "ax.tick_params(axis='y', labelsize=12)\n",
    "\n",
    "ax.set_xlabel(\"Year-Month\", fontsize=14)\n",
    "ax.xaxis.set_major_formatter(mdates.DateFormatter(\"%Y-%m\"))\n",
    "ax.tick_params(axis='x', labelsize=12, rotation=0)\n",
    "\n",
    "ax.set_title(\"Smoothed Delayed Transfer of Care Days Over Time\", fontsize=16, weight='bold', pad=30)\n",
    "ax.text(\n",
    "    0.5, 1.03,\n",
    "    \"6-Month Rolling Average Across Selected NHS Foundation Trusts vs National Average (England)\",\n",
    "    fontsize=12,\n",
    "    ha='center',\n",
    "    transform=ax.transAxes\n",
    ")\n",
    "\n",
    "ax.grid(True, linestyle=':', linewidth=1, color='lightgrey', alpha=0.8)\n",
    "ax.spines['top'].set_visible(False)\n",
    "ax.spines['right'].set_visible(False)\n",
    "\n",
    "ax.legend(fontsize=10, loc='upper center', bbox_to_anchor=(0.5, -0.15), ncol=2, frameon=False)\n",
    "plt.tight_layout(rect=[0, 0.15, 1, 1])\n",
    "\n",
    "# === Show Plot ===\n",
    "st.pyplot(fig)\n"
   ]
  },
  {
   "cell_type": "code",
   "execution_count": null,
   "metadata": {},
   "outputs": [],
   "source": []
  },
  {
   "cell_type": "code",
   "execution_count": null,
   "metadata": {},
   "outputs": [],
   "source": []
  },
  {
   "cell_type": "code",
   "execution_count": null,
   "metadata": {},
   "outputs": [],
   "source": []
  }
 ],
 "metadata": {
  "kernelspec": {
   "display_name": "Python 3",
   "language": "python",
   "name": "python3"
  },
  "language_info": {
   "codemirror_mode": {
    "name": "ipython",
    "version": 3
   },
   "file_extension": ".py",
   "mimetype": "text/x-python",
   "name": "python",
   "nbconvert_exporter": "python",
   "pygments_lexer": "ipython3",
   "version": "3.12.4"
  }
 },
 "nbformat": 4,
 "nbformat_minor": 2
}
